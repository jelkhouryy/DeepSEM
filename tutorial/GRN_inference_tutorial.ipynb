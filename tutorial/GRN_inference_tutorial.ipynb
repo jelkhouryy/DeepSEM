{
 "cells": [
  {
   "cell_type": "markdown",
   "metadata": {},
   "source": [
    "## Data Preparation "
   ]
  },
  {
   "cell_type": "markdown",
   "metadata": {},
   "source": [
    "We use Beeline benchmark to benchmark the performance of DeepSEM.\n",
    "The data preparation process are shown in below.\n",
    "1. Download raw data from https://doi.org/10.5281/zenodo.3378975, which is provided by BEELINE benchmark\n",
    "2. Use the preoprocess code in https://github.com/Murali-group/Beeline/blob/master/generateExpInputs.py to generate dataset.\n",
    "\n",
    "We also provide demo data as shown in ../demo_data/GRN_inference/input "
   ]
  },
  {
   "cell_type": "markdown",
   "metadata": {},
   "source": [
    "# Run DeepSEM by using following command:\n",
    "for cell type specific GRN inference task: python main.py --task non_celltype_GRN --data_file demo_data/GRN_inference/input/500_STRING_hESC/data.csv --net_file demo_data/GRN_inference/input/500_STRING_hESC/label.csv --setting new --alpha 100 --beta 1 --n_epoch 90 --save_name out\n",
    "\n",
    "\n",
    "for cell type non-specific GRN inference task: python main.py --task celltype_GRN --data_file demo_data/GRN_inference/input/500_ChIP-seq_hESC/data.csv --net_file demo_data/GRN_inference/input/500_ChIP-seq_hESC/label.csv --setting new --alpha 0.1 --beta 0.01 --n_epochs 150  --save_name out"
   ]
  },
  {
   "cell_type": "code",
   "execution_count": 43,
   "metadata": {},
   "outputs": [
    {
     "name": "stdout",
     "output_type": "stream",
     "text": [
      "Using inverse constraint\n",
      "dir exist\n",
      "epoch: 1 Ep: 222 Epr: 2.168150853140282 loss: 1.02271302541097 mse_loss: 0.7530966401100159 kl_loss: 0.13703571011622748 sparse_loss: 0.1325806894650062\n",
      "epoch: 2 Ep: 267 Epr: 2.6076408909389883 loss: 1.0138637920220692 mse_loss: 0.7537549237410227 kl_loss: 0.12509717171390852 sparse_loss: 0.13501170774300894\n",
      "epoch: 4 Ep: 293 Epr: 2.861568468333796 loss: 0.9634573459625244 mse_loss: 0.6226864606142044 kl_loss: 0.1974144292374452 sparse_loss: 0.1433564672867457\n",
      "epoch: 5 Ep: 304 Epr: 2.9689993664623686 loss: 0.9532651752233505 mse_loss: 0.6173700739940008 kl_loss: 0.1829339601099491 sparse_loss: 0.15296114111940065\n",
      "epoch: 7 Ep: 323 Epr: 3.1545618268662667 loss: 0.9223050077756246 mse_loss: 0.5767848988374075 kl_loss: 0.18400715167323747 sparse_loss: 0.1615129572649797\n",
      "epoch: 8 Ep: 352 Epr: 3.4377887401143217 loss: 0.9148564438025156 mse_loss: 0.5697054167588552 kl_loss: 0.17542136708895364 sparse_loss: 0.16972966367999712\n",
      "epoch: 10 Ep: 349 Epr: 3.4084894042610743 loss: 0.8928407281637192 mse_loss: 0.5405952483415604 kl_loss: 0.17690855264663696 sparse_loss: 0.1753369284172853\n",
      "epoch: 11 Ep: 366 Epr: 3.574518974096141 loss: 0.8891303986310959 mse_loss: 0.5367340793212255 kl_loss: 0.1728829133013884 sparse_loss: 0.17951340228319168\n",
      "epoch: 13 Ep: 374 Epr: 3.6526505363714667 loss: 0.8774060954650243 mse_loss: 0.5203010340531667 kl_loss: 0.17530074591437975 sparse_loss: 0.18180432294805846\n",
      "epoch: 14 Ep: 359 Epr: 3.506153857105231 loss: 0.8742009401321411 mse_loss: 0.51802226404349 kl_loss: 0.17316080008943877 sparse_loss: 0.18301786482334137\n",
      "epoch: 16 Ep: 365 Epr: 3.5647525288117254 loss: 0.86383023361365 mse_loss: 0.5089629888534546 kl_loss: 0.17124790946642557 sparse_loss: 0.1836193266014258\n",
      "epoch: 17 Ep: 371 Epr: 3.6233512005182194 loss: 0.86488509674867 mse_loss: 0.5114645188053449 kl_loss: 0.16975564261277518 sparse_loss: 0.18366494526465735\n",
      "epoch: 19 Ep: 370 Epr: 3.613584755233804 loss: 0.8563922047615051 mse_loss: 0.49701033780972165 kl_loss: 0.17538370688756308 sparse_loss: 0.18399816254774728\n",
      "epoch: 20 Ep: 372 Epr: 3.6331176458026353 loss: 0.8559152881304423 mse_loss: 0.49752431859572727 kl_loss: 0.17412776748339334 sparse_loss: 0.18426320080955824\n",
      "epoch: 22 Ep: 367 Epr: 3.584285419380557 loss: 0.8499229600032171 mse_loss: 0.4918345386783282 kl_loss: 0.1741244668761889 sparse_loss: 0.18396396189928055\n",
      "epoch: 23 Ep: 373 Epr: 3.642884091087051 loss: 0.8478853702545166 mse_loss: 0.4914197673400243 kl_loss: 0.1728778046866258 sparse_loss: 0.1835878019531568\n",
      "epoch: 25 Ep: 386 Epr: 3.769847879784455 loss: 0.8448104659716288 mse_loss: 0.4881361772616704 kl_loss: 0.17336967463294664 sparse_loss: 0.18330460662643114\n",
      "epoch: 26 Ep: 388 Epr: 3.789380770353286 loss: 0.8449686070283254 mse_loss: 0.4893537685275078 kl_loss: 0.1726756493250529 sparse_loss: 0.1829391879340013\n",
      "epoch: 28 Ep: 385 Epr: 3.760081434500039 loss: 0.8413474063078562 mse_loss: 0.48465897887945175 kl_loss: 0.1741622326274713 sparse_loss: 0.18252620473504066\n",
      "epoch: 29 Ep: 386 Epr: 3.769847879784455 loss: 0.8415094216664633 mse_loss: 0.48589038600524265 kl_loss: 0.17332213992873827 sparse_loss: 0.182296900699536\n",
      "epoch: 31 Ep: 379 Epr: 3.701482762793545 loss: 0.8387279510498047 mse_loss: 0.48240966349840164 kl_loss: 0.17436878507335982 sparse_loss: 0.18194951489567757\n",
      "epoch: 32 Ep: 380 Epr: 3.7112492080779607 loss: 0.83731809258461 mse_loss: 0.4822615360220273 kl_loss: 0.17347314208745956 sparse_loss: 0.18158341695864996\n",
      "epoch: 34 Ep: 376 Epr: 3.6721834269402978 loss: 0.834411104520162 mse_loss: 0.4774370441834132 kl_loss: 0.17572971557577452 sparse_loss: 0.18124433731039366\n",
      "epoch: 35 Ep: 373 Epr: 3.642884091087051 loss: 0.833614374200503 mse_loss: 0.4779493411382039 kl_loss: 0.1747287412484487 sparse_loss: 0.18093629429737726\n",
      "epoch: 37 Ep: 380 Epr: 3.7112492080779607 loss: 0.8331021815538406 mse_loss: 0.47657573968172073 kl_loss: 0.1757320687174797 sparse_loss: 0.1807943806052208\n",
      "epoch: 38 Ep: 378 Epr: 3.691716317509129 loss: 0.8302116493384043 mse_loss: 0.47454828520615894 kl_loss: 0.17507708817720413 sparse_loss: 0.18058627843856812\n",
      "epoch: 40 Ep: 374 Epr: 3.6526505363714667 loss: 0.8291561802228292 mse_loss: 0.4736706241965294 kl_loss: 0.1751354249815146 sparse_loss: 0.18035012980302176\n",
      "epoch: 41 Ep: 377 Epr: 3.6819498722247137 loss: 0.8274573882420858 mse_loss: 0.47300191471974057 kl_loss: 0.17433521648248038 sparse_loss: 0.18012025083104768\n",
      "epoch: 43 Ep: 375 Epr: 3.6624169816558823 loss: 0.829564611117045 mse_loss: 0.47435233493645984 kl_loss: 0.1752722735206286 sparse_loss: 0.1799400088687738\n",
      "epoch: 44 Ep: 378 Epr: 3.691716317509129 loss: 0.8269262959559759 mse_loss: 0.4722682386636734 kl_loss: 0.17487788572907448 sparse_loss: 0.17978016659617424\n",
      "epoch: 46 Ep: 379 Epr: 3.701482762793545 loss: 0.8271809717019399 mse_loss: 0.4714691986640294 kl_loss: 0.1761295311152935 sparse_loss: 0.17958223323027292\n",
      "epoch: 47 Ep: 379 Epr: 3.701482762793545 loss: 0.8268081694841385 mse_loss: 0.4719715192914009 kl_loss: 0.17546230306228003 sparse_loss: 0.1793743371963501\n",
      "epoch: 49 Ep: 383 Epr: 3.7405485439312076 loss: 0.8268401622772217 mse_loss: 0.47125595311323804 kl_loss: 0.17630818858742714 sparse_loss: 0.17927602057655653\n",
      "epoch: 50 Ep: 383 Epr: 3.7405485439312076 loss: 0.8259805142879486 mse_loss: 0.47114203373591107 kl_loss: 0.17575296635429064 sparse_loss: 0.1790855179230372\n",
      "epoch: 52 Ep: 384 Epr: 3.7503149892156236 loss: 0.8228529691696167 mse_loss: 0.4680263201395671 kl_loss: 0.17595627531409264 sparse_loss: 0.17887038240830103\n",
      "epoch: 53 Ep: 386 Epr: 3.769847879784455 loss: 0.823633223772049 mse_loss: 0.469507855673631 kl_loss: 0.17540591210126877 sparse_loss: 0.1787194460630417\n",
      "epoch: 55 Ep: 390 Epr: 3.8089136609221175 loss: 0.8218846668799719 mse_loss: 0.46714744716882706 kl_loss: 0.1761487474044164 sparse_loss: 0.17858846113085747\n",
      "epoch: 56 Ep: 392 Epr: 3.828446551490949 loss: 0.8217032651106516 mse_loss: 0.46781618644793826 kl_loss: 0.17539557814598083 sparse_loss: 0.17849149803320566\n",
      "epoch: 58 Ep: 387 Epr: 3.7796143250688705 loss: 0.8215944617986679 mse_loss: 0.46757860233386356 kl_loss: 0.1756030172109604 sparse_loss: 0.17841284101208052\n",
      "epoch: 59 Ep: 386 Epr: 3.769847879784455 loss: 0.8207236776749293 mse_loss: 0.4672895024220149 kl_loss: 0.17507791394988695 sparse_loss: 0.17835625385244688\n",
      "epoch: 61 Ep: 390 Epr: 3.8089136609221175 loss: 0.8192257086435953 mse_loss: 0.4655253017942111 kl_loss: 0.17545361071825027 sparse_loss: 0.1782467948893706\n",
      "epoch: 62 Ep: 391 Epr: 3.8186801062065334 loss: 0.819795161485672 mse_loss: 0.4663177927335103 kl_loss: 0.175247756143411 sparse_loss: 0.17822961633404097\n",
      "epoch: 64 Ep: 390 Epr: 3.8089136609221175 loss: 0.8178607324759165 mse_loss: 0.4638974244395892 kl_loss: 0.17580813790361086 sparse_loss: 0.17815516144037247\n",
      "epoch: 65 Ep: 392 Epr: 3.828446551490949 loss: 0.820079912741979 mse_loss: 0.4666416198015213 kl_loss: 0.17529086271921793 sparse_loss: 0.17814744263887405\n",
      "epoch: 67 Ep: 395 Epr: 3.857745887344196 loss: 0.8178698023160299 mse_loss: 0.4637373760342598 kl_loss: 0.1760858123501142 sparse_loss: 0.17804661889870962\n",
      "epoch: 68 Ep: 398 Epr: 3.8870452231974433 loss: 0.8200528174638748 mse_loss: 0.46631041417519253 kl_loss: 0.17580763871471086 sparse_loss: 0.177934763332208\n",
      "epoch: 70 Ep: 396 Epr: 3.867512332628612 loss: 0.8190968334674835 mse_loss: 0.4651441847284635 kl_loss: 0.17606215924024582 sparse_loss: 0.17789049074053764\n",
      "epoch: 71 Ep: 392 Epr: 3.828446551490949 loss: 0.8161648710568746 mse_loss: 0.46312480171521503 kl_loss: 0.17523792261878648 sparse_loss: 0.17780215044816336\n",
      "epoch: 73 Ep: 393 Epr: 3.8382129967753644 loss: 0.8155167798201243 mse_loss: 0.46222994724909466 kl_loss: 0.17546826104323068 sparse_loss: 0.17781856283545494\n",
      "epoch: 74 Ep: 392 Epr: 3.828446551490949 loss: 0.8158389876286188 mse_loss: 0.4630143493413925 kl_loss: 0.1750704695781072 sparse_loss: 0.17775417491793633\n",
      "epoch: 76 Ep: 396 Epr: 3.867512332628612 loss: 0.8167201727628708 mse_loss: 0.4632551024357478 kl_loss: 0.1756691907842954 sparse_loss: 0.1777958981692791\n",
      "epoch: 77 Ep: 393 Epr: 3.8382129967753644 loss: 0.8170665800571442 mse_loss: 0.4639151046673457 kl_loss: 0.1753376697500547 sparse_loss: 0.17781380439798036\n",
      "epoch: 79 Ep: 395 Epr: 3.857745887344196 loss: 0.8163819760084152 mse_loss: 0.4626426299413045 kl_loss: 0.17586508269111314 sparse_loss: 0.17787425592541695\n",
      "epoch: 80 Ep: 392 Epr: 3.828446551490949 loss: 0.8143956412871679 mse_loss: 0.4611582060654958 kl_loss: 0.17547224710385004 sparse_loss: 0.17776518811782202\n",
      "epoch: 82 Ep: 393 Epr: 3.8382129967753644 loss: 0.8151271641254425 mse_loss: 0.46190578242142993 kl_loss: 0.17544448872407278 sparse_loss: 0.1777768904964129\n",
      "epoch: 83 Ep: 399 Epr: 3.896811668481859 loss: 0.8152563273906708 mse_loss: 0.4622573082645734 kl_loss: 0.17520743732651076 sparse_loss: 0.17779158179958662\n",
      "epoch: 85 Ep: 399 Epr: 3.896811668481859 loss: 0.8160101274649302 mse_loss: 0.4625418062011401 kl_loss: 0.17566844572623572 sparse_loss: 0.17779986808697382\n",
      "epoch: 86 Ep: 399 Epr: 3.896811668481859 loss: 0.8129114409287771 mse_loss: 0.45996037125587463 kl_loss: 0.17520401875178018 sparse_loss: 0.1777470534046491\n",
      "epoch: 88 Ep: 400 Epr: 3.9065781137662743 loss: 0.8153532445430756 mse_loss: 0.46218758324782055 kl_loss: 0.17539468283454576 sparse_loss: 0.17777097846070924\n",
      "epoch: 89 Ep: 396 Epr: 3.867512332628612 loss: 0.8142229318618774 mse_loss: 0.4614272067944209 kl_loss: 0.1750603032608827 sparse_loss: 0.17773542429010072\n"
     ]
    }
   ],
   "source": [
    "!python ../main.py --task non_celltype_GRN --data_file ../demo_data/GRN_inference/input/500_STRING_hESC/data.csv --net_file ../demo_data/GRN_inference/input/500_STRING_hESC/label.csv --setting new --alpha 100 --beta 1 --n_epoch 90 --save_name out\n",
    "#!python ../main.py --task celltype_GRN --data_file ../demo_data/GRN_inference/input/500_ChIP-seq_hESC/data.csv --net_file ../demo_data/GRN_inference/input/500_ChIP-seq_hESC/label.csv --setting new --alpha 0.1 --beta 0.01 --n_epochs 150  --save_name out"
   ]
  },
  {
   "cell_type": "markdown",
   "metadata": {},
   "source": [
    "# Calculate EPR values"
   ]
  },
  {
   "cell_type": "code",
   "execution_count": 44,
   "metadata": {},
   "outputs": [
    {
     "data": {
      "text/plain": [
       "3.867512332628612"
      ]
     },
     "execution_count": 44,
     "metadata": {},
     "output_type": "execute_result"
    }
   ],
   "source": [
    "import pandas as pd\n",
    "#col1 = \"Gene1\"\n",
    "#col2 = \"Gene2\"\n",
    "col1 = \"TF\"\n",
    "col2 = \"Target\"\n",
    "output = pd.read_csv(\"out/GRN_inference_result.tsv\",sep='\\t')\n",
    "output['EdgeWeight'] = abs(output['EdgeWeight'])\n",
    "output = output.sort_values('EdgeWeight',ascending=False)\n",
    "label = pd.read_csv('../demo_data/GRN_inference/input/500_STRING_hESC/label.csv')\n",
    "#label = pd.read_csv(\"../demo_data/GRN_inference/input/500_ChIP-seq_hESC/label.csv\")\n",
    "TFs = set(label['Gene1'])\n",
    "Genes = set(label['Gene1'])| set(label['Gene2'])\n",
    "output = output[output[col1].apply(lambda x: x in TFs)]\n",
    "output = output[output[col2].apply(lambda x: x in Genes)]\n",
    "label_set = set(label['Gene1']+'|'+label['Gene2'])\n",
    "output = output.iloc[:len(label_set)]\n",
    "len(set(output[col1]+'|'+output[col2]) & label_set) / (len(label_set)**2/(len(TFs)*len(Genes)-len(TFs)))\n"
   ]
  },
  {
   "cell_type": "markdown",
   "metadata": {},
   "source": [
    "# Calculate AUPR ratio values"
   ]
  },
  {
   "cell_type": "code",
   "execution_count": 45,
   "metadata": {},
   "outputs": [
    {
     "name": "stdout",
     "output_type": "stream",
     "text": [
      "AUPRC =  0.0469393325430154\n",
      "1.9553203615657655\n"
     ]
    }
   ],
   "source": [
    "from sklearn.metrics import average_precision_score, precision_recall_curve\n",
    "import numpy as np\n",
    "import pandas as pd\n",
    "output = pd.read_csv(\"out/GRN_inference_result.tsv\",sep='\\t')\n",
    "output['EdgeWeight'] = abs(output['EdgeWeight'])\n",
    "output = output.sort_values('EdgeWeight',ascending=False)\n",
    "label = pd.read_csv('../demo_data/GRN_inference/input/500_STRING_hESC/label.csv')\n",
    "#label = pd.read_csv(\"../demo_data/GRN_inference/input/500_ChIP-seq_hESC/label.csv\")\n",
    "TFs = set(label['Gene1'])\n",
    "Genes = set(label['Gene1'])| set(label['Gene2'])\n",
    "output = output[output[col1].apply(lambda x: x in TFs)]\n",
    "output = output[output[col2].apply(lambda x: x in Genes)]\n",
    "label_set = set(label['Gene1']+'|'+label['Gene2'])\n",
    "preds,labels,randoms = [] ,[],[]\n",
    "res_d = {}\n",
    "l = []\n",
    "p= []\n",
    "for item in (output.to_dict('records')):\n",
    "        res_d[item[col1] + '|' + item[col2]] = item['EdgeWeight']\n",
    "for item in (set(label['Gene1'])):\n",
    "        for item2 in  set(label['Gene1'])| set(label['Gene2']):\n",
    "            if item+ '|' + item2 in label_set:\n",
    "                l.append(1)\n",
    "            else:\n",
    "                l.append(0)\n",
    "            if item + '|' + item2 in res_d:\n",
    "                p.append(res_d[item + '|' + item2])\n",
    "            else:\n",
    "                p.append(-1)\n",
    "                \n",
    "print(\"AUPRC = \", average_precision_score(l,p))\n",
    "print(average_precision_score(l,p)/np.mean(l))\n",
    "precision, recall, thresholds = precision_recall_curve(l, p)"
   ]
  },
  {
   "cell_type": "code",
   "execution_count": 46,
   "metadata": {},
   "outputs": [
    {
     "data": {
      "text/plain": [
       "Text(0, 0.5, 'precision')"
      ]
     },
     "execution_count": 46,
     "metadata": {},
     "output_type": "execute_result"
    },
    {
     "data": {
      "image/png": "[encoded data removed]",
      "text/plain": [
       "<Figure size 432x288 with 1 Axes>"
      ]
     },
     "metadata": {
      "needs_background": "light"
     },
     "output_type": "display_data"
    }
   ],
   "source": [
    "import matplotlib.pyplot as plt\n",
    "plt.plot(recall, precision)\n",
    "plt.xlabel(\"recall\")\n",
    "plt.ylabel(\"precision\")"
   ]
  },
  {
   "cell_type": "markdown",
   "metadata": {},
   "source": [
    "# Ensemble DeepSEM result"
   ]
  },
  {
   "cell_type": "code",
   "execution_count": 52,
   "metadata": {},
   "outputs": [
    {
     "ename": "FileNotFoundError",
     "evalue": "[Errno 2] File ../../scGRN/Upload/GRN_inference_benchmark/cross_validation/500_STRING_hESC/rep_i.csv does not exist: '../../scGRN/Upload/GRN_inference_benchmark/cross_validation/500_STRING_hESC/rep_i.csv'",
     "output_type": "error",
     "traceback": [
      "\u001b[0;31m---------------------------------------------------------------------------\u001b[0m",
      "\u001b[0;31mFileNotFoundError\u001b[0m                         Traceback (most recent call last)",
      "\u001b[0;32m/tmp/ipykernel_17913/2596218852.py\u001b[0m in \u001b[0;36m<module>\u001b[0;34m\u001b[0m\n\u001b[1;32m      1\u001b[0m \u001b[0mres\u001b[0m \u001b[0;34m=\u001b[0m \u001b[0;34m[\u001b[0m\u001b[0;34m]\u001b[0m\u001b[0;34m\u001b[0m\u001b[0;34m\u001b[0m\u001b[0m\n\u001b[1;32m      2\u001b[0m \u001b[0;32mfor\u001b[0m \u001b[0mi\u001b[0m \u001b[0;32min\u001b[0m \u001b[0mrange\u001b[0m\u001b[0;34m(\u001b[0m\u001b[0;36m10\u001b[0m\u001b[0;34m)\u001b[0m\u001b[0;34m:\u001b[0m\u001b[0;34m\u001b[0m\u001b[0;34m\u001b[0m\u001b[0m\n\u001b[0;32m----> 3\u001b[0;31m     \u001b[0mres\u001b[0m\u001b[0;34m.\u001b[0m\u001b[0mappend\u001b[0m\u001b[0;34m(\u001b[0m\u001b[0mpd\u001b[0m\u001b[0;34m.\u001b[0m\u001b[0mread_csv\u001b[0m\u001b[0;34m(\u001b[0m\u001b[0;34m'../../scGRN/Upload/GRN_inference_benchmark/cross_validation/500_STRING_hESC/rep_i.csv'\u001b[0m\u001b[0;34m,\u001b[0m\u001b[0msep\u001b[0m\u001b[0;34m=\u001b[0m\u001b[0;34m'\\t'\u001b[0m\u001b[0;34m)\u001b[0m\u001b[0;34m)\u001b[0m\u001b[0;34m\u001b[0m\u001b[0;34m\u001b[0m\u001b[0m\n\u001b[0m\u001b[1;32m      4\u001b[0m \u001b[0mres\u001b[0m \u001b[0;34m=\u001b[0m \u001b[0mpd\u001b[0m\u001b[0;34m.\u001b[0m\u001b[0mconcat\u001b[0m\u001b[0;34m(\u001b[0m\u001b[0mres\u001b[0m\u001b[0;34m)\u001b[0m\u001b[0;34m\u001b[0m\u001b[0;34m\u001b[0m\u001b[0m\n\u001b[1;32m      5\u001b[0m \u001b[0mres\u001b[0m\u001b[0;34m[\u001b[0m\u001b[0;34m'EdgeWeight'\u001b[0m\u001b[0;34m]\u001b[0m \u001b[0;34m=\u001b[0m \u001b[0mabs\u001b[0m\u001b[0;34m(\u001b[0m\u001b[0mres\u001b[0m\u001b[0;34m[\u001b[0m\u001b[0;34m'EdgeWeight'\u001b[0m\u001b[0;34m]\u001b[0m\u001b[0;34m)\u001b[0m\u001b[0;34m\u001b[0m\u001b[0;34m\u001b[0m\u001b[0m\n",
      "\u001b[0;32m~/.conda/envs/deepsem/lib/python3.7/site-packages/pandas/io/parsers.py\u001b[0m in \u001b[0;36mparser_f\u001b[0;34m(filepath_or_buffer, sep, delimiter, header, names, index_col, usecols, squeeze, prefix, mangle_dupe_cols, dtype, engine, converters, true_values, false_values, skipinitialspace, skiprows, skipfooter, nrows, na_values, keep_default_na, na_filter, verbose, skip_blank_lines, parse_dates, infer_datetime_format, keep_date_col, date_parser, dayfirst, cache_dates, iterator, chunksize, compression, thousands, decimal, lineterminator, quotechar, quoting, doublequote, escapechar, comment, encoding, dialect, error_bad_lines, warn_bad_lines, delim_whitespace, low_memory, memory_map, float_precision)\u001b[0m\n\u001b[1;32m    674\u001b[0m         )\n\u001b[1;32m    675\u001b[0m \u001b[0;34m\u001b[0m\u001b[0m\n\u001b[0;32m--> 676\u001b[0;31m         \u001b[0;32mreturn\u001b[0m \u001b[0m_read\u001b[0m\u001b[0;34m(\u001b[0m\u001b[0mfilepath_or_buffer\u001b[0m\u001b[0;34m,\u001b[0m \u001b[0mkwds\u001b[0m\u001b[0;34m)\u001b[0m\u001b[0;34m\u001b[0m\u001b[0;34m\u001b[0m\u001b[0m\n\u001b[0m\u001b[1;32m    677\u001b[0m \u001b[0;34m\u001b[0m\u001b[0m\n\u001b[1;32m    678\u001b[0m     \u001b[0mparser_f\u001b[0m\u001b[0;34m.\u001b[0m\u001b[0m__name__\u001b[0m \u001b[0;34m=\u001b[0m \u001b[0mname\u001b[0m\u001b[0;34m\u001b[0m\u001b[0;34m\u001b[0m\u001b[0m\n",
      "\u001b[0;32m~/.conda/envs/deepsem/lib/python3.7/site-packages/pandas/io/parsers.py\u001b[0m in \u001b[0;36m_read\u001b[0;34m(filepath_or_buffer, kwds)\u001b[0m\n\u001b[1;32m    446\u001b[0m \u001b[0;34m\u001b[0m\u001b[0m\n\u001b[1;32m    447\u001b[0m     \u001b[0;31m# Create the parser.\u001b[0m\u001b[0;34m\u001b[0m\u001b[0;34m\u001b[0m\u001b[0;34m\u001b[0m\u001b[0m\n\u001b[0;32m--> 448\u001b[0;31m     \u001b[0mparser\u001b[0m \u001b[0;34m=\u001b[0m \u001b[0mTextFileReader\u001b[0m\u001b[0;34m(\u001b[0m\u001b[0mfp_or_buf\u001b[0m\u001b[0;34m,\u001b[0m \u001b[0;34m**\u001b[0m\u001b[0mkwds\u001b[0m\u001b[0;34m)\u001b[0m\u001b[0;34m\u001b[0m\u001b[0;34m\u001b[0m\u001b[0m\n\u001b[0m\u001b[1;32m    449\u001b[0m \u001b[0;34m\u001b[0m\u001b[0m\n\u001b[1;32m    450\u001b[0m     \u001b[0;32mif\u001b[0m \u001b[0mchunksize\u001b[0m \u001b[0;32mor\u001b[0m \u001b[0miterator\u001b[0m\u001b[0;34m:\u001b[0m\u001b[0;34m\u001b[0m\u001b[0;34m\u001b[0m\u001b[0m\n",
      "\u001b[0;32m~/.conda/envs/deepsem/lib/python3.7/site-packages/pandas/io/parsers.py\u001b[0m in \u001b[0;36m__init__\u001b[0;34m(self, f, engine, **kwds)\u001b[0m\n\u001b[1;32m    878\u001b[0m             \u001b[0mself\u001b[0m\u001b[0;34m.\u001b[0m\u001b[0moptions\u001b[0m\u001b[0;34m[\u001b[0m\u001b[0;34m\"has_index_names\"\u001b[0m\u001b[0;34m]\u001b[0m \u001b[0;34m=\u001b[0m \u001b[0mkwds\u001b[0m\u001b[0;34m[\u001b[0m\u001b[0;34m\"has_index_names\"\u001b[0m\u001b[0;34m]\u001b[0m\u001b[0;34m\u001b[0m\u001b[0;34m\u001b[0m\u001b[0m\n\u001b[1;32m    879\u001b[0m \u001b[0;34m\u001b[0m\u001b[0m\n\u001b[0;32m--> 880\u001b[0;31m         \u001b[0mself\u001b[0m\u001b[0;34m.\u001b[0m\u001b[0m_make_engine\u001b[0m\u001b[0;34m(\u001b[0m\u001b[0mself\u001b[0m\u001b[0;34m.\u001b[0m\u001b[0mengine\u001b[0m\u001b[0;34m)\u001b[0m\u001b[0;34m\u001b[0m\u001b[0;34m\u001b[0m\u001b[0m\n\u001b[0m\u001b[1;32m    881\u001b[0m \u001b[0;34m\u001b[0m\u001b[0m\n\u001b[1;32m    882\u001b[0m     \u001b[0;32mdef\u001b[0m \u001b[0mclose\u001b[0m\u001b[0;34m(\u001b[0m\u001b[0mself\u001b[0m\u001b[0;34m)\u001b[0m\u001b[0;34m:\u001b[0m\u001b[0;34m\u001b[0m\u001b[0;34m\u001b[0m\u001b[0m\n",
      "\u001b[0;32m~/.conda/envs/deepsem/lib/python3.7/site-packages/pandas/io/parsers.py\u001b[0m in \u001b[0;36m_make_engine\u001b[0;34m(self, engine)\u001b[0m\n\u001b[1;32m   1112\u001b[0m     \u001b[0;32mdef\u001b[0m \u001b[0m_make_engine\u001b[0m\u001b[0;34m(\u001b[0m\u001b[0mself\u001b[0m\u001b[0;34m,\u001b[0m \u001b[0mengine\u001b[0m\u001b[0;34m=\u001b[0m\u001b[0;34m\"c\"\u001b[0m\u001b[0;34m)\u001b[0m\u001b[0;34m:\u001b[0m\u001b[0;34m\u001b[0m\u001b[0;34m\u001b[0m\u001b[0m\n\u001b[1;32m   1113\u001b[0m         \u001b[0;32mif\u001b[0m \u001b[0mengine\u001b[0m \u001b[0;34m==\u001b[0m \u001b[0;34m\"c\"\u001b[0m\u001b[0;34m:\u001b[0m\u001b[0;34m\u001b[0m\u001b[0;34m\u001b[0m\u001b[0m\n\u001b[0;32m-> 1114\u001b[0;31m             \u001b[0mself\u001b[0m\u001b[0;34m.\u001b[0m\u001b[0m_engine\u001b[0m \u001b[0;34m=\u001b[0m \u001b[0mCParserWrapper\u001b[0m\u001b[0;34m(\u001b[0m\u001b[0mself\u001b[0m\u001b[0;34m.\u001b[0m\u001b[0mf\u001b[0m\u001b[0;34m,\u001b[0m \u001b[0;34m**\u001b[0m\u001b[0mself\u001b[0m\u001b[0;34m.\u001b[0m\u001b[0moptions\u001b[0m\u001b[0;34m)\u001b[0m\u001b[0;34m\u001b[0m\u001b[0;34m\u001b[0m\u001b[0m\n\u001b[0m\u001b[1;32m   1115\u001b[0m         \u001b[0;32melse\u001b[0m\u001b[0;34m:\u001b[0m\u001b[0;34m\u001b[0m\u001b[0;34m\u001b[0m\u001b[0m\n\u001b[1;32m   1116\u001b[0m             \u001b[0;32mif\u001b[0m \u001b[0mengine\u001b[0m \u001b[0;34m==\u001b[0m \u001b[0;34m\"python\"\u001b[0m\u001b[0;34m:\u001b[0m\u001b[0;34m\u001b[0m\u001b[0;34m\u001b[0m\u001b[0m\n",
      "\u001b[0;32m~/.conda/envs/deepsem/lib/python3.7/site-packages/pandas/io/parsers.py\u001b[0m in \u001b[0;36m__init__\u001b[0;34m(self, src, **kwds)\u001b[0m\n\u001b[1;32m   1889\u001b[0m         \u001b[0mkwds\u001b[0m\u001b[0;34m[\u001b[0m\u001b[0;34m\"usecols\"\u001b[0m\u001b[0;34m]\u001b[0m \u001b[0;34m=\u001b[0m \u001b[0mself\u001b[0m\u001b[0;34m.\u001b[0m\u001b[0musecols\u001b[0m\u001b[0;34m\u001b[0m\u001b[0;34m\u001b[0m\u001b[0m\n\u001b[1;32m   1890\u001b[0m \u001b[0;34m\u001b[0m\u001b[0m\n\u001b[0;32m-> 1891\u001b[0;31m         \u001b[0mself\u001b[0m\u001b[0;34m.\u001b[0m\u001b[0m_reader\u001b[0m \u001b[0;34m=\u001b[0m \u001b[0mparsers\u001b[0m\u001b[0;34m.\u001b[0m\u001b[0mTextReader\u001b[0m\u001b[0;34m(\u001b[0m\u001b[0msrc\u001b[0m\u001b[0;34m,\u001b[0m \u001b[0;34m**\u001b[0m\u001b[0mkwds\u001b[0m\u001b[0;34m)\u001b[0m\u001b[0;34m\u001b[0m\u001b[0;34m\u001b[0m\u001b[0m\n\u001b[0m\u001b[1;32m   1892\u001b[0m         \u001b[0mself\u001b[0m\u001b[0;34m.\u001b[0m\u001b[0munnamed_cols\u001b[0m \u001b[0;34m=\u001b[0m \u001b[0mself\u001b[0m\u001b[0;34m.\u001b[0m\u001b[0m_reader\u001b[0m\u001b[0;34m.\u001b[0m\u001b[0munnamed_cols\u001b[0m\u001b[0;34m\u001b[0m\u001b[0;34m\u001b[0m\u001b[0m\n\u001b[1;32m   1893\u001b[0m \u001b[0;34m\u001b[0m\u001b[0m\n",
      "\u001b[0;32mpandas/_libs/parsers.pyx\u001b[0m in \u001b[0;36mpandas._libs.parsers.TextReader.__cinit__\u001b[0;34m()\u001b[0m\n",
      "\u001b[0;32mpandas/_libs/parsers.pyx\u001b[0m in \u001b[0;36mpandas._libs.parsers.TextReader._setup_parser_source\u001b[0;34m()\u001b[0m\n",
      "\u001b[0;31mFileNotFoundError\u001b[0m: [Errno 2] File ../../scGRN/Upload/GRN_inference_benchmark/cross_validation/500_STRING_hESC/rep_i.csv does not exist: '../../scGRN/Upload/GRN_inference_benchmark/cross_validation/500_STRING_hESC/rep_i.csv'"
     ]
    }
   ],
   "source": [
    "res = []\n",
    "for i in range(10):\n",
    "    res.append(pd.read_csv('../../scGRN/Upload/GRN_inference_benchmark/cross_validation/500_STRING_hESC/rep_i.csv',sep='\\t'))\n",
    "res = pd.concat(res)\n",
    "res['EdgeWeight'] = abs(res['EdgeWeight'])\n",
    "res.groupby(['Gene1','Gene2']).mean()"
   ]
  }
 ],
 "metadata": {
  "interpreter": {
   "hash": "2738dfb9bd63bdcf641cb5b69246b4d1b6f8afb0544341910e01f4e96fcddd2e"
  },
  "kernelspec": {
   "display_name": "geometric",
   "language": "python",
   "name": "python3"
  },
  "language_info": {
   "codemirror_mode": {
    "name": "ipython",
    "version": 3
   },
   "file_extension": ".py",
   "mimetype": "text/x-python",
   "name": "python",
   "nbconvert_exporter": "python",
   "pygments_lexer": "ipython3",
   "version": "3.7.13"
  }
 },
 "nbformat": 4,
 "nbformat_minor": 2
}
