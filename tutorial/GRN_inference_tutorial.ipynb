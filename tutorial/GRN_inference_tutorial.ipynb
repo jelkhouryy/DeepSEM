{
 "cells": [
  {
   "cell_type": "markdown",
   "metadata": {},
   "source": [
    "## Data Preparation "
   ]
  },
  {
   "cell_type": "markdown",
   "metadata": {},
   "source": [
    "We use Beeline benchmark to benchmark the performance of DeepSEM.\n",
    "The data preparation process are shown in below.\n",
    "1. Download raw data from https://doi.org/10.5281/zenodo.3378975, which is provided by BEELINE benchmark\n",
    "2. Use the preoprocess code in https://github.com/Murali-group/Beeline/blob/master/generateExpInputs.py to generate dataset.\n",
    "\n",
    "We also provide demo data as shown in ../demo_data/GRN_inference/input "
   ]
  },
  {
   "cell_type": "markdown",
   "metadata": {},
   "source": [
    "# Run DeepSEM by using following command:\n",
    "for cell type specific GRN inference task: python main.py --task non_celltype_GRN --data_file demo_data/GRN_inference/input/500_STRING_hESC/data.csv --net_file demo_data/GRN_inference/input/500_STRING_hESC/label.csv --setting new --alpha 100 --beta 1 --n_epoch 90 --save_name out\n",
    "\n",
    "\n",
    "for cell type non-specific GRN inference task: python main.py --task celltype_GRN --data_file demo_data/GRN_inference/input/500_ChIP-seq_hESC/data.csv --net_file demo_data/GRN_inference/input/500_ChIP-seq_hESC/label.csv --setting new --alpha 0.1 --beta 0.01 --n_epochs 150  --save_name out"
   ]
  },
  {
   "cell_type": "markdown",
   "metadata": {},
   "source": [
    "**Parameters**\n",
    "\n",
    "- $\\alpha$ is the $\\mathcal{L}^1$ regularization factor\n",
    "- $\\beta$ is the coefficient of the $KL$ divergence loss\n"
   ]
  },
  {
   "cell_type": "code",
   "execution_count": 6,
   "metadata": {},
   "outputs": [
    {
     "name": "stdout",
     "output_type": "stream",
     "text": [
      "Using inverse constraint\n",
      "dir exist\n",
      "epoch: 1 Ep: 169 Epr: 1.650529253066251 loss: 1.0767737329006195 mse_loss: 0.9162110735972723 kl_loss: 0.03259339338789383 sparse_loss: 0.1279692475994428\n",
      "epoch: 2 Ep: 182 Epr: 1.777493041763655 loss: 1.0757212738196056 mse_loss: 0.9166732380787531 kl_loss: 0.030669904003540676 sparse_loss: 0.1283781404296557\n",
      "epoch: 4 Ep: 243 Epr: 2.373246204113012 loss: 0.973983441789945 mse_loss: 0.6607417662938436 kl_loss: 0.1707377384106318 sparse_loss: 0.14250394701957703\n",
      "epoch: 5 Ep: 285 Epr: 2.7834369060584705 loss: 0.9595889101425806 mse_loss: 0.6533583551645279 kl_loss: 0.15070829292138418 sparse_loss: 0.15552226454019547\n",
      "epoch: 7 Ep: 317 Epr: 3.0959631551597724 loss: 0.9182884444793066 mse_loss: 0.5751824478308359 kl_loss: 0.17863528057932854 sparse_loss: 0.1644707197944323\n",
      "epoch: 8 Ep: 332 Epr: 3.2424598344260076 loss: 0.9110443294048309 mse_loss: 0.5703285237153372 kl_loss: 0.16926558688282967 sparse_loss: 0.17145021135608354\n",
      "epoch: 10 Ep: 357 Epr: 3.4866209665364 loss: 0.8887431770563126 mse_loss: 0.5385008702675501 kl_loss: 0.17364362006386122 sparse_loss: 0.17659867803255716\n",
      "epoch: 11 Ep: 366 Epr: 3.574518974096141 loss: 0.8868761658668518 mse_loss: 0.5364244431257248 kl_loss: 0.16968170056740442 sparse_loss: 0.1807700308660666\n",
      "epoch: 13 Ep: 366 Epr: 3.574518974096141 loss: 0.8727503170569738 mse_loss: 0.5194151401519775 kl_loss: 0.17065584907929102 sparse_loss: 0.18267931416630745\n",
      "epoch: 14 Ep: 361 Epr: 3.5256867476740625 loss: 0.8676952968041102 mse_loss: 0.5162481466929117 kl_loss: 0.16803780322273573 sparse_loss: 0.18340935930609703\n",
      "epoch: 16 Ep: 367 Epr: 3.584285419380557 loss: 0.8621917565663656 mse_loss: 0.5076346173882484 kl_loss: 0.1711208956936995 sparse_loss: 0.18343624100089073\n",
      "epoch: 17 Ep: 370 Epr: 3.613584755233804 loss: 0.8590288013219833 mse_loss: 0.5065100714564323 kl_loss: 0.16919375335176787 sparse_loss: 0.18332497775554657\n",
      "epoch: 19 Ep: 377 Epr: 3.6819498722247137 loss: 0.8539524376392365 mse_loss: 0.49645204097032547 kl_loss: 0.1744291422267755 sparse_loss: 0.18307125320037207\n",
      "epoch: 20 Ep: 381 Epr: 3.7210156533623766 loss: 0.8523178249597549 mse_loss: 0.4962886795401573 kl_loss: 0.17311660448710123 sparse_loss: 0.1829125446577867\n",
      "epoch: 22 Ep: 383 Epr: 3.7405485439312076 loss: 0.8495817482471466 mse_loss: 0.49195100367069244 kl_loss: 0.17497464517752329 sparse_loss: 0.18265609815716743\n",
      "epoch: 23 Ep: 384 Epr: 3.7503149892156236 loss: 0.8449506163597107 mse_loss: 0.48913664370775223 kl_loss: 0.1735037403802077 sparse_loss: 0.182310218612353\n",
      "epoch: 25 Ep: 380 Epr: 3.7112492080779607 loss: 0.8417643904685974 mse_loss: 0.4848526616891225 kl_loss: 0.17510600636402765 sparse_loss: 0.18180570875604948\n",
      "epoch: 26 Ep: 380 Epr: 3.7112492080779607 loss: 0.8405781735976537 mse_loss: 0.4856902062892914 kl_loss: 0.17368656396865845 sparse_loss: 0.1812013958891233\n",
      "epoch: 28 Ep: 379 Epr: 3.701482762793545 loss: 0.8369931429624557 mse_loss: 0.4800666843851407 kl_loss: 0.17611445734898248 sparse_loss: 0.18081201364596686\n",
      "epoch: 29 Ep: 383 Epr: 3.7405485439312076 loss: 0.8376011500755945 mse_loss: 0.48212500164906186 kl_loss: 0.17499798039595285 sparse_loss: 0.1804781717558702\n",
      "epoch: 31 Ep: 382 Epr: 3.730782098646792 loss: 0.8352158864339193 mse_loss: 0.47912851721048355 kl_loss: 0.17585070431232452 sparse_loss: 0.18023666366934776\n",
      "epoch: 32 Ep: 381 Epr: 3.7210156533623766 loss: 0.8360690325498581 mse_loss: 0.48099108537038165 kl_loss: 0.17521254469950995 sparse_loss: 0.1798654148976008\n",
      "epoch: 34 Ep: 384 Epr: 3.7503149892156236 loss: 0.8326533089081446 mse_loss: 0.4785875777403514 kl_loss: 0.17450560381015143 sparse_loss: 0.1795601323246956\n",
      "epoch: 35 Ep: 379 Epr: 3.701482762793545 loss: 0.8316492835680643 mse_loss: 0.47879303495089215 kl_loss: 0.1736177752415339 sparse_loss: 0.1792384721338749\n",
      "epoch: 37 Ep: 378 Epr: 3.691716317509129 loss: 0.8303334762652715 mse_loss: 0.4753363753358523 kl_loss: 0.17594482625524202 sparse_loss: 0.17905227715770403\n",
      "epoch: 38 Ep: 384 Epr: 3.7503149892156236 loss: 0.8296664555867513 mse_loss: 0.4757137969136238 kl_loss: 0.17500299712022147 sparse_loss: 0.1789496789375941\n",
      "epoch: 40 Ep: 385 Epr: 3.760081434500039 loss: 0.8278359224398931 mse_loss: 0.4720628261566162 kl_loss: 0.17686760053038597 sparse_loss: 0.17890549202760062\n",
      "epoch: 41 Ep: 385 Epr: 3.760081434500039 loss: 0.8272047738234202 mse_loss: 0.4722581282258034 kl_loss: 0.17614314456780752 sparse_loss: 0.17880351593097052\n",
      "epoch: 43 Ep: 391 Epr: 3.8186801062065334 loss: 0.8263840228319168 mse_loss: 0.4708350946505864 kl_loss: 0.17705950513482094 sparse_loss: 0.17848942428827286\n",
      "epoch: 44 Ep: 382 Epr: 3.730782098646792 loss: 0.8264258106549581 mse_loss: 0.47139139473438263 kl_loss: 0.17681301509340605 sparse_loss: 0.17822139461835226\n",
      "epoch: 46 Ep: 388 Epr: 3.789380770353286 loss: 0.823592022061348 mse_loss: 0.46883198122183484 kl_loss: 0.17668098956346512 sparse_loss: 0.17807904134194055\n",
      "epoch: 47 Ep: 393 Epr: 3.8382129967753644 loss: 0.8225400894880295 mse_loss: 0.4683760777115822 kl_loss: 0.17627252638339996 sparse_loss: 0.17789146428306898\n",
      "epoch: 49 Ep: 394 Epr: 3.8479794420597804 loss: 0.8227711419264475 mse_loss: 0.4686087941130002 kl_loss: 0.1765204444527626 sparse_loss: 0.17764191205302873\n",
      "epoch: 50 Ep: 394 Epr: 3.8479794420597804 loss: 0.8202575395504633 mse_loss: 0.46680832654237747 kl_loss: 0.1758709525068601 sparse_loss: 0.17757825801769891\n",
      "epoch: 52 Ep: 392 Epr: 3.828446551490949 loss: 0.8235093553860983 mse_loss: 0.4689122587442398 kl_loss: 0.1771827278037866 sparse_loss: 0.17741436759630838\n",
      "epoch: 53 Ep: 397 Epr: 3.8772787779130273 loss: 0.8215749164422353 mse_loss: 0.46774856249491376 kl_loss: 0.17641210556030273 sparse_loss: 0.17741424714525542\n",
      "epoch: 55 Ep: 396 Epr: 3.867512332628612 loss: 0.8203938007354736 mse_loss: 0.4655374313394229 kl_loss: 0.1775756006439527 sparse_loss: 0.17728077868620554\n",
      "epoch: 56 Ep: 393 Epr: 3.8382129967753644 loss: 0.8199617664019266 mse_loss: 0.46581987539927167 kl_loss: 0.17699064190189043 sparse_loss: 0.17715124413371086\n",
      "epoch: 58 Ep: 395 Epr: 3.857745887344196 loss: 0.8175676614046097 mse_loss: 0.46343684444824856 kl_loss: 0.1772023638089498 sparse_loss: 0.176928440729777\n",
      "epoch: 59 Ep: 394 Epr: 3.8479794420597804 loss: 0.8186991065740585 mse_loss: 0.4651647210121155 kl_loss: 0.17667734498778978 sparse_loss: 0.17685702443122864\n",
      "epoch: 61 Ep: 393 Epr: 3.8382129967753644 loss: 0.8167599042256674 mse_loss: 0.4628167872627576 kl_loss: 0.17710009465614954 sparse_loss: 0.17684301982323328\n",
      "epoch: 62 Ep: 396 Epr: 3.867512332628612 loss: 0.8182975202798843 mse_loss: 0.4651306594411532 kl_loss: 0.17637994388739267 sparse_loss: 0.17678691943486533\n",
      "epoch: 64 Ep: 399 Epr: 3.896811668481859 loss: 0.8173997352520624 mse_loss: 0.46363917489846546 kl_loss: 0.17709509283304214 sparse_loss: 0.17666547248760858\n",
      "epoch: 65 Ep: 398 Epr: 3.8870452231974433 loss: 0.8161889761686325 mse_loss: 0.4627096951007843 kl_loss: 0.17691644405325255 sparse_loss: 0.17656284322341284\n",
      "epoch: 67 Ep: 398 Epr: 3.8870452231974433 loss: 0.8158876150846481 mse_loss: 0.46295951803525287 kl_loss: 0.17642184098561606 sparse_loss: 0.1765062597890695\n",
      "epoch: 68 Ep: 398 Epr: 3.8870452231974433 loss: 0.8146062244971594 mse_loss: 0.46218683073918027 kl_loss: 0.17598750442266464 sparse_loss: 0.17643189430236816\n",
      "epoch: 70 Ep: 398 Epr: 3.8870452231974433 loss: 0.8153525541226069 mse_loss: 0.4624125013748805 kl_loss: 0.17646468430757523 sparse_loss: 0.17647535353899002\n",
      "epoch: 71 Ep: 398 Epr: 3.8870452231974433 loss: 0.8164754211902618 mse_loss: 0.4638100638985634 kl_loss: 0.1761512483159701 sparse_loss: 0.17651411270101866\n",
      "epoch: 73 Ep: 396 Epr: 3.867512332628612 loss: 0.8142050554354986 mse_loss: 0.4611714035272598 kl_loss: 0.17655071119467416 sparse_loss: 0.1764829456806183\n",
      "epoch: 74 Ep: 394 Epr: 3.8479794420597804 loss: 0.8156783034404119 mse_loss: 0.46280770748853683 kl_loss: 0.17640590046842894 sparse_loss: 0.17646468803286552\n",
      "epoch: 76 Ep: 398 Epr: 3.8870452231974433 loss: 0.8140519112348557 mse_loss: 0.4609179769953092 kl_loss: 0.17677906900644302 sparse_loss: 0.17635485778252283\n",
      "epoch: 77 Ep: 395 Epr: 3.857745887344196 loss: 0.8132270723581314 mse_loss: 0.46064875771601993 kl_loss: 0.17623603964845339 sparse_loss: 0.17634227871894836\n",
      "epoch: 79 Ep: 393 Epr: 3.8382129967753644 loss: 0.8120892196893692 mse_loss: 0.45969660580158234 kl_loss: 0.1761282148460547 sparse_loss: 0.17626439531644186\n",
      "epoch: 80 Ep: 395 Epr: 3.857745887344196 loss: 0.8147341360648473 mse_loss: 0.46263619263966876 kl_loss: 0.17590173333883286 sparse_loss: 0.17619620139400163\n",
      "epoch: 82 Ep: 391 Epr: 3.8186801062065334 loss: 0.8109915355841318 mse_loss: 0.4585179314017296 kl_loss: 0.17624247695008913 sparse_loss: 0.1762311321993669\n",
      "epoch: 83 Ep: 388 Epr: 3.789380770353286 loss: 0.8127703865369161 mse_loss: 0.46065957099199295 kl_loss: 0.1758762113749981 sparse_loss: 0.17623459796110788\n",
      "epoch: 85 Ep: 392 Epr: 3.828446551490949 loss: 0.811748002966245 mse_loss: 0.4596698333819707 kl_loss: 0.17585225030779839 sparse_loss: 0.17622592051823935\n",
      "epoch: 86 Ep: 394 Epr: 3.8479794420597804 loss: 0.8098109612862269 mse_loss: 0.45800283054510754 kl_loss: 0.17555655539035797 sparse_loss: 0.17625157038370767\n",
      "epoch: 88 Ep: 388 Epr: 3.789380770353286 loss: 0.8134283820788065 mse_loss: 0.4611396938562393 kl_loss: 0.1759699173271656 sparse_loss: 0.17631876344482103\n",
      "epoch: 89 Ep: 386 Epr: 3.769847879784455 loss: 0.8110269208749136 mse_loss: 0.45898547023534775 kl_loss: 0.1758208100994428 sparse_loss: 0.17622064799070358\n"
     ]
    }
   ],
   "source": [
    "!python ../main.py --task non_celltype_GRN --data_file ../demo_data/GRN_inference/input/500_STRING_hESC/data.csv --net_file ../demo_data/GRN_inference/input/500_STRING_hESC/label.csv --setting new --inverse 1 --alpha 100 --beta 1 --n_epoch 90 --save_name out\n",
    "#!python ../main.py --task celltype_GRN --data_file ../demo_data/GRN_inference/input/500_ChIP-seq_hESC/data.csv --net_file ../demo_data/GRN_inference/input/500_ChIP-seq_hESC/label.csv --setting new --alpha 0.1 --beta 0.01 --n_epochs 150  --save_name out"
   ]
  },
  {
   "cell_type": "markdown",
   "metadata": {},
   "source": [
    "# Calculate EPR values"
   ]
  },
  {
   "cell_type": "code",
   "execution_count": 7,
   "metadata": {},
   "outputs": [
    {
     "data": {
      "text/plain": [
       "3.769847879784455"
      ]
     },
     "execution_count": 7,
     "metadata": {},
     "output_type": "execute_result"
    }
   ],
   "source": [
    "import pandas as pd\n",
    "#col1 = \"Gene1\"\n",
    "#col2 = \"Gene2\"\n",
    "col1 = \"TF\"\n",
    "col2 = \"Target\"\n",
    "output = pd.read_csv(\"out/GRN_inference_result.tsv\",sep='\\t')\n",
    "output['EdgeWeight'] = abs(output['EdgeWeight'])\n",
    "output = output.sort_values('EdgeWeight',ascending=False)\n",
    "label = pd.read_csv('../demo_data/GRN_inference/input/500_STRING_hESC/label.csv')\n",
    "#label = pd.read_csv(\"../demo_data/GRN_inference/input/500_ChIP-seq_hESC/label.csv\")\n",
    "TFs = set(label['Gene1'])\n",
    "Genes = set(label['Gene1'])| set(label['Gene2'])\n",
    "output = output[output[col1].apply(lambda x: x in TFs)]\n",
    "output = output[output[col2].apply(lambda x: x in Genes)]\n",
    "label_set = set(label['Gene1']+'|'+label['Gene2'])\n",
    "output = output.iloc[:len(label_set)]\n",
    "len(set(output[col1]+'|'+output[col2]) & label_set) / (len(label_set)**2/(len(TFs)*len(Genes)-len(TFs)))\n"
   ]
  },
  {
   "cell_type": "markdown",
   "metadata": {},
   "source": [
    "# Calculate AUPR ratio values"
   ]
  },
  {
   "cell_type": "code",
   "execution_count": 8,
   "metadata": {},
   "outputs": [
    {
     "name": "stdout",
     "output_type": "stream",
     "text": [
      "AUPRC =  0.04627830024881518\n",
      "1.927784181682557\n"
     ]
    }
   ],
   "source": [
    "from sklearn.metrics import average_precision_score, precision_recall_curve\n",
    "import numpy as np\n",
    "import pandas as pd\n",
    "output = pd.read_csv(\"out/GRN_inference_result.tsv\",sep='\\t')\n",
    "output['EdgeWeight'] = abs(output['EdgeWeight'])\n",
    "output = output.sort_values('EdgeWeight',ascending=False)\n",
    "label = pd.read_csv('../demo_data/GRN_inference/input/500_STRING_hESC/label.csv')\n",
    "#label = pd.read_csv(\"../demo_data/GRN_inference/input/500_ChIP-seq_hESC/label.csv\")\n",
    "TFs = set(label['Gene1'])\n",
    "Genes = set(label['Gene1'])| set(label['Gene2'])\n",
    "output = output[output[col1].apply(lambda x: x in TFs)]\n",
    "output = output[output[col2].apply(lambda x: x in Genes)]\n",
    "label_set = set(label['Gene1']+'|'+label['Gene2'])\n",
    "preds,labels,randoms = [] ,[],[]\n",
    "res_d = {}\n",
    "l = []\n",
    "p= []\n",
    "for item in (output.to_dict('records')):\n",
    "        res_d[item[col1] + '|' + item[col2]] = item['EdgeWeight']\n",
    "for item in (set(label['Gene1'])):\n",
    "        for item2 in  set(label['Gene1'])| set(label['Gene2']):\n",
    "            if item+ '|' + item2 in label_set:\n",
    "                l.append(1)\n",
    "            else:\n",
    "                l.append(0)\n",
    "            if item + '|' + item2 in res_d:\n",
    "                p.append(res_d[item + '|' + item2])\n",
    "            else:\n",
    "                p.append(-1)\n",
    "                \n",
    "print(\"AUPRC = \", average_precision_score(l,p))\n",
    "print(average_precision_score(l,p)/np.mean(l))\n",
    "precision, recall, thresholds = precision_recall_curve(l, p)"
   ]
  },
  {
   "cell_type": "code",
   "execution_count": 11,
   "metadata": {},
   "outputs": [
    {
     "data": {
      "image/png": "[encoded data removed]",
      "text/plain": [
       "<Figure size 432x288 with 1 Axes>"
      ]
     },
     "metadata": {
      "needs_background": "light"
     },
     "output_type": "display_data"
    }
   ],
   "source": [
    "import matplotlib.pyplot as plt\n",
    "plt.plot(recall, precision)\n",
    "plt.xlabel(\"recall\")\n",
    "plt.ylabel(\"precision\")\n",
    "plt.ylim(0, 0.2)\n",
    "plt.show()"
   ]
  },
  {
   "cell_type": "markdown",
   "metadata": {},
   "source": [
    "# Ensemble DeepSEM result"
   ]
  },
  {
   "cell_type": "code",
   "execution_count": 52,
   "metadata": {},
   "outputs": [
    {
     "ename": "FileNotFoundError",
     "evalue": "[Errno 2] File ../../scGRN/Upload/GRN_inference_benchmark/cross_validation/500_STRING_hESC/rep_i.csv does not exist: '../../scGRN/Upload/GRN_inference_benchmark/cross_validation/500_STRING_hESC/rep_i.csv'",
     "output_type": "error",
     "traceback": [
      "\u001b[0;31m---------------------------------------------------------------------------\u001b[0m",
      "\u001b[0;31mFileNotFoundError\u001b[0m                         Traceback (most recent call last)",
      "\u001b[0;32m/tmp/ipykernel_17913/2596218852.py\u001b[0m in \u001b[0;36m<module>\u001b[0;34m\u001b[0m\n\u001b[1;32m      1\u001b[0m \u001b[0mres\u001b[0m \u001b[0;34m=\u001b[0m \u001b[0;34m[\u001b[0m\u001b[0;34m]\u001b[0m\u001b[0;34m\u001b[0m\u001b[0;34m\u001b[0m\u001b[0m\n\u001b[1;32m      2\u001b[0m \u001b[0;32mfor\u001b[0m \u001b[0mi\u001b[0m \u001b[0;32min\u001b[0m \u001b[0mrange\u001b[0m\u001b[0;34m(\u001b[0m\u001b[0;36m10\u001b[0m\u001b[0;34m)\u001b[0m\u001b[0;34m:\u001b[0m\u001b[0;34m\u001b[0m\u001b[0;34m\u001b[0m\u001b[0m\n\u001b[0;32m----> 3\u001b[0;31m     \u001b[0mres\u001b[0m\u001b[0;34m.\u001b[0m\u001b[0mappend\u001b[0m\u001b[0;34m(\u001b[0m\u001b[0mpd\u001b[0m\u001b[0;34m.\u001b[0m\u001b[0mread_csv\u001b[0m\u001b[0;34m(\u001b[0m\u001b[0;34m'../../scGRN/Upload/GRN_inference_benchmark/cross_validation/500_STRING_hESC/rep_i.csv'\u001b[0m\u001b[0;34m,\u001b[0m\u001b[0msep\u001b[0m\u001b[0;34m=\u001b[0m\u001b[0;34m'\\t'\u001b[0m\u001b[0;34m)\u001b[0m\u001b[0;34m)\u001b[0m\u001b[0;34m\u001b[0m\u001b[0;34m\u001b[0m\u001b[0m\n\u001b[0m\u001b[1;32m      4\u001b[0m \u001b[0mres\u001b[0m \u001b[0;34m=\u001b[0m \u001b[0mpd\u001b[0m\u001b[0;34m.\u001b[0m\u001b[0mconcat\u001b[0m\u001b[0;34m(\u001b[0m\u001b[0mres\u001b[0m\u001b[0;34m)\u001b[0m\u001b[0;34m\u001b[0m\u001b[0;34m\u001b[0m\u001b[0m\n\u001b[1;32m      5\u001b[0m \u001b[0mres\u001b[0m\u001b[0;34m[\u001b[0m\u001b[0;34m'EdgeWeight'\u001b[0m\u001b[0;34m]\u001b[0m \u001b[0;34m=\u001b[0m \u001b[0mabs\u001b[0m\u001b[0;34m(\u001b[0m\u001b[0mres\u001b[0m\u001b[0;34m[\u001b[0m\u001b[0;34m'EdgeWeight'\u001b[0m\u001b[0;34m]\u001b[0m\u001b[0;34m)\u001b[0m\u001b[0;34m\u001b[0m\u001b[0;34m\u001b[0m\u001b[0m\n",
      "\u001b[0;32m~/.conda/envs/deepsem/lib/python3.7/site-packages/pandas/io/parsers.py\u001b[0m in \u001b[0;36mparser_f\u001b[0;34m(filepath_or_buffer, sep, delimiter, header, names, index_col, usecols, squeeze, prefix, mangle_dupe_cols, dtype, engine, converters, true_values, false_values, skipinitialspace, skiprows, skipfooter, nrows, na_values, keep_default_na, na_filter, verbose, skip_blank_lines, parse_dates, infer_datetime_format, keep_date_col, date_parser, dayfirst, cache_dates, iterator, chunksize, compression, thousands, decimal, lineterminator, quotechar, quoting, doublequote, escapechar, comment, encoding, dialect, error_bad_lines, warn_bad_lines, delim_whitespace, low_memory, memory_map, float_precision)\u001b[0m\n\u001b[1;32m    674\u001b[0m         )\n\u001b[1;32m    675\u001b[0m \u001b[0;34m\u001b[0m\u001b[0m\n\u001b[0;32m--> 676\u001b[0;31m         \u001b[0;32mreturn\u001b[0m \u001b[0m_read\u001b[0m\u001b[0;34m(\u001b[0m\u001b[0mfilepath_or_buffer\u001b[0m\u001b[0;34m,\u001b[0m \u001b[0mkwds\u001b[0m\u001b[0;34m)\u001b[0m\u001b[0;34m\u001b[0m\u001b[0;34m\u001b[0m\u001b[0m\n\u001b[0m\u001b[1;32m    677\u001b[0m \u001b[0;34m\u001b[0m\u001b[0m\n\u001b[1;32m    678\u001b[0m     \u001b[0mparser_f\u001b[0m\u001b[0;34m.\u001b[0m\u001b[0m__name__\u001b[0m \u001b[0;34m=\u001b[0m \u001b[0mname\u001b[0m\u001b[0;34m\u001b[0m\u001b[0;34m\u001b[0m\u001b[0m\n",
      "\u001b[0;32m~/.conda/envs/deepsem/lib/python3.7/site-packages/pandas/io/parsers.py\u001b[0m in \u001b[0;36m_read\u001b[0;34m(filepath_or_buffer, kwds)\u001b[0m\n\u001b[1;32m    446\u001b[0m \u001b[0;34m\u001b[0m\u001b[0m\n\u001b[1;32m    447\u001b[0m     \u001b[0;31m# Create the parser.\u001b[0m\u001b[0;34m\u001b[0m\u001b[0;34m\u001b[0m\u001b[0;34m\u001b[0m\u001b[0m\n\u001b[0;32m--> 448\u001b[0;31m     \u001b[0mparser\u001b[0m \u001b[0;34m=\u001b[0m \u001b[0mTextFileReader\u001b[0m\u001b[0;34m(\u001b[0m\u001b[0mfp_or_buf\u001b[0m\u001b[0;34m,\u001b[0m \u001b[0;34m**\u001b[0m\u001b[0mkwds\u001b[0m\u001b[0;34m)\u001b[0m\u001b[0;34m\u001b[0m\u001b[0;34m\u001b[0m\u001b[0m\n\u001b[0m\u001b[1;32m    449\u001b[0m \u001b[0;34m\u001b[0m\u001b[0m\n\u001b[1;32m    450\u001b[0m     \u001b[0;32mif\u001b[0m \u001b[0mchunksize\u001b[0m \u001b[0;32mor\u001b[0m \u001b[0miterator\u001b[0m\u001b[0;34m:\u001b[0m\u001b[0;34m\u001b[0m\u001b[0;34m\u001b[0m\u001b[0m\n",
      "\u001b[0;32m~/.conda/envs/deepsem/lib/python3.7/site-packages/pandas/io/parsers.py\u001b[0m in \u001b[0;36m__init__\u001b[0;34m(self, f, engine, **kwds)\u001b[0m\n\u001b[1;32m    878\u001b[0m             \u001b[0mself\u001b[0m\u001b[0;34m.\u001b[0m\u001b[0moptions\u001b[0m\u001b[0;34m[\u001b[0m\u001b[0;34m\"has_index_names\"\u001b[0m\u001b[0;34m]\u001b[0m \u001b[0;34m=\u001b[0m \u001b[0mkwds\u001b[0m\u001b[0;34m[\u001b[0m\u001b[0;34m\"has_index_names\"\u001b[0m\u001b[0;34m]\u001b[0m\u001b[0;34m\u001b[0m\u001b[0;34m\u001b[0m\u001b[0m\n\u001b[1;32m    879\u001b[0m \u001b[0;34m\u001b[0m\u001b[0m\n\u001b[0;32m--> 880\u001b[0;31m         \u001b[0mself\u001b[0m\u001b[0;34m.\u001b[0m\u001b[0m_make_engine\u001b[0m\u001b[0;34m(\u001b[0m\u001b[0mself\u001b[0m\u001b[0;34m.\u001b[0m\u001b[0mengine\u001b[0m\u001b[0;34m)\u001b[0m\u001b[0;34m\u001b[0m\u001b[0;34m\u001b[0m\u001b[0m\n\u001b[0m\u001b[1;32m    881\u001b[0m \u001b[0;34m\u001b[0m\u001b[0m\n\u001b[1;32m    882\u001b[0m     \u001b[0;32mdef\u001b[0m \u001b[0mclose\u001b[0m\u001b[0;34m(\u001b[0m\u001b[0mself\u001b[0m\u001b[0;34m)\u001b[0m\u001b[0;34m:\u001b[0m\u001b[0;34m\u001b[0m\u001b[0;34m\u001b[0m\u001b[0m\n",
      "\u001b[0;32m~/.conda/envs/deepsem/lib/python3.7/site-packages/pandas/io/parsers.py\u001b[0m in \u001b[0;36m_make_engine\u001b[0;34m(self, engine)\u001b[0m\n\u001b[1;32m   1112\u001b[0m     \u001b[0;32mdef\u001b[0m \u001b[0m_make_engine\u001b[0m\u001b[0;34m(\u001b[0m\u001b[0mself\u001b[0m\u001b[0;34m,\u001b[0m \u001b[0mengine\u001b[0m\u001b[0;34m=\u001b[0m\u001b[0;34m\"c\"\u001b[0m\u001b[0;34m)\u001b[0m\u001b[0;34m:\u001b[0m\u001b[0;34m\u001b[0m\u001b[0;34m\u001b[0m\u001b[0m\n\u001b[1;32m   1113\u001b[0m         \u001b[0;32mif\u001b[0m \u001b[0mengine\u001b[0m \u001b[0;34m==\u001b[0m \u001b[0;34m\"c\"\u001b[0m\u001b[0;34m:\u001b[0m\u001b[0;34m\u001b[0m\u001b[0;34m\u001b[0m\u001b[0m\n\u001b[0;32m-> 1114\u001b[0;31m             \u001b[0mself\u001b[0m\u001b[0;34m.\u001b[0m\u001b[0m_engine\u001b[0m \u001b[0;34m=\u001b[0m \u001b[0mCParserWrapper\u001b[0m\u001b[0;34m(\u001b[0m\u001b[0mself\u001b[0m\u001b[0;34m.\u001b[0m\u001b[0mf\u001b[0m\u001b[0;34m,\u001b[0m \u001b[0;34m**\u001b[0m\u001b[0mself\u001b[0m\u001b[0;34m.\u001b[0m\u001b[0moptions\u001b[0m\u001b[0;34m)\u001b[0m\u001b[0;34m\u001b[0m\u001b[0;34m\u001b[0m\u001b[0m\n\u001b[0m\u001b[1;32m   1115\u001b[0m         \u001b[0;32melse\u001b[0m\u001b[0;34m:\u001b[0m\u001b[0;34m\u001b[0m\u001b[0;34m\u001b[0m\u001b[0m\n\u001b[1;32m   1116\u001b[0m             \u001b[0;32mif\u001b[0m \u001b[0mengine\u001b[0m \u001b[0;34m==\u001b[0m \u001b[0;34m\"python\"\u001b[0m\u001b[0;34m:\u001b[0m\u001b[0;34m\u001b[0m\u001b[0;34m\u001b[0m\u001b[0m\n",
      "\u001b[0;32m~/.conda/envs/deepsem/lib/python3.7/site-packages/pandas/io/parsers.py\u001b[0m in \u001b[0;36m__init__\u001b[0;34m(self, src, **kwds)\u001b[0m\n\u001b[1;32m   1889\u001b[0m         \u001b[0mkwds\u001b[0m\u001b[0;34m[\u001b[0m\u001b[0;34m\"usecols\"\u001b[0m\u001b[0;34m]\u001b[0m \u001b[0;34m=\u001b[0m \u001b[0mself\u001b[0m\u001b[0;34m.\u001b[0m\u001b[0musecols\u001b[0m\u001b[0;34m\u001b[0m\u001b[0;34m\u001b[0m\u001b[0m\n\u001b[1;32m   1890\u001b[0m \u001b[0;34m\u001b[0m\u001b[0m\n\u001b[0;32m-> 1891\u001b[0;31m         \u001b[0mself\u001b[0m\u001b[0;34m.\u001b[0m\u001b[0m_reader\u001b[0m \u001b[0;34m=\u001b[0m \u001b[0mparsers\u001b[0m\u001b[0;34m.\u001b[0m\u001b[0mTextReader\u001b[0m\u001b[0;34m(\u001b[0m\u001b[0msrc\u001b[0m\u001b[0;34m,\u001b[0m \u001b[0;34m**\u001b[0m\u001b[0mkwds\u001b[0m\u001b[0;34m)\u001b[0m\u001b[0;34m\u001b[0m\u001b[0;34m\u001b[0m\u001b[0m\n\u001b[0m\u001b[1;32m   1892\u001b[0m         \u001b[0mself\u001b[0m\u001b[0;34m.\u001b[0m\u001b[0munnamed_cols\u001b[0m \u001b[0;34m=\u001b[0m \u001b[0mself\u001b[0m\u001b[0;34m.\u001b[0m\u001b[0m_reader\u001b[0m\u001b[0;34m.\u001b[0m\u001b[0munnamed_cols\u001b[0m\u001b[0;34m\u001b[0m\u001b[0;34m\u001b[0m\u001b[0m\n\u001b[1;32m   1893\u001b[0m \u001b[0;34m\u001b[0m\u001b[0m\n",
      "\u001b[0;32mpandas/_libs/parsers.pyx\u001b[0m in \u001b[0;36mpandas._libs.parsers.TextReader.__cinit__\u001b[0;34m()\u001b[0m\n",
      "\u001b[0;32mpandas/_libs/parsers.pyx\u001b[0m in \u001b[0;36mpandas._libs.parsers.TextReader._setup_parser_source\u001b[0;34m()\u001b[0m\n",
      "\u001b[0;31mFileNotFoundError\u001b[0m: [Errno 2] File ../../scGRN/Upload/GRN_inference_benchmark/cross_validation/500_STRING_hESC/rep_i.csv does not exist: '../../scGRN/Upload/GRN_inference_benchmark/cross_validation/500_STRING_hESC/rep_i.csv'"
     ]
    }
   ],
   "source": [
    "res = []\n",
    "for i in range(10):\n",
    "    res.append(pd.read_csv('../../scGRN/Upload/GRN_inference_benchmark/cross_validation/500_STRING_hESC/rep_i.csv',sep='\\t'))\n",
    "res = pd.concat(res)\n",
    "res['EdgeWeight'] = abs(res['EdgeWeight'])\n",
    "res.groupby(['Gene1','Gene2']).mean()"
   ]
  }
 ],
 "metadata": {
  "interpreter": {
   "hash": "2738dfb9bd63bdcf641cb5b69246b4d1b6f8afb0544341910e01f4e96fcddd2e"
  },
  "kernelspec": {
   "display_name": "geometric",
   "language": "python",
   "name": "python3"
  },
  "language_info": {
   "codemirror_mode": {
    "name": "ipython",
    "version": 3
   },
   "file_extension": ".py",
   "mimetype": "text/x-python",
   "name": "python",
   "nbconvert_exporter": "python",
   "pygments_lexer": "ipython3",
   "version": "3.7.13"
  }
 },
 "nbformat": 4,
 "nbformat_minor": 2
}
